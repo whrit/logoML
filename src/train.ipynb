{
 "cells": [
  {
   "attachments": {},
   "cell_type": "markdown",
   "metadata": {},
   "source": [
    "# Logo Detection - YOLOv7 and YOLOv11\n",
    "This notebook provides options for training both YOLOv7 and the newer YOLOv11 models for logo detection."
   ]
  },
  {
   "attachments": {},
   "cell_type": "markdown",
   "metadata": {},
   "source": [
    "# Clone the repo\n",
    "Get the repo and submodules"
   ]
  },
  {
   "cell_type": "code",
   "execution_count": null,
   "metadata": {},
   "outputs": [],
   "source": [
    "!git clone https://github.com/nuwandda/yolov7-logo.git"
   ]
  },
  {
   "attachments": {},
   "cell_type": "markdown",
   "metadata": {},
   "source": [
    "Download submodules."
   ]
  },
  {
   "cell_type": "code",
   "execution_count": null,
   "metadata": {},
   "outputs": [],
   "source": [
    "%cd yolov7-logo/\n",
    "!git submodule update --init"
   ]
  },
  {
   "attachments": {},
   "cell_type": "markdown",
   "metadata": {},
   "source": [
    "Install the necessary packages."
   ]
  },
  {
   "cell_type": "code",
   "execution_count": null,
   "metadata": {},
   "outputs": [],
   "source": [
    "!pip install -r src/requirements.txt"
   ]
  },
  {
   "attachments": {},
   "cell_type": "markdown",
   "metadata": {},
   "source": [
    "# Choose Your Model\n",
    "Select which YOLO version you want to train:"
   ]
  },
  {
   "cell_type": "code",
   "execution_count": null,
   "metadata": {},
   "outputs": [],
   "source": [
    "# Set to 'yolov7' or 'yolo11'\n",
    "YOLO_VERSION = 'yolo11'"
   ]
  },
  {
   "attachments": {},
   "cell_type": "markdown",
   "metadata": {},
   "source": [
    "# Download the dataset\n",
    "Run the **getFlickr.sh** file to download the dataset."
   ]
  },
  {
   "cell_type": "code",
   "execution_count": null,
   "metadata": {},
   "outputs": [],
   "source": [
    "!sh data/getFlickr.sh"
   ]
  },
  {
   "attachments": {},
   "cell_type": "markdown",
   "metadata": {},
   "source": [
    "# Prepare data\n",
    "We need to convert data to YOLO format. Now that we have our dataset, we need to convert the annotations into the format expected by YOLO. YOLO expects data to be organized in a specific way, otherwise it is unable to parse through the directories."
   ]
  },
  {
   "cell_type": "code",
   "execution_count": null,
   "metadata": {},
   "outputs": [],
   "source": [
    "!python src/convert_annotations.py --dataset flickr27"
   ]
  },
  {
   "attachments": {},
   "cell_type": "markdown",
   "metadata": {},
   "source": [
    "To see if the conversion is correct, run."
   ]
  },
  {
   "cell_type": "code",
   "execution_count": null,
   "metadata": {},
   "outputs": [],
   "source": [
    "!python src/convert_annotations.py --dataset flickr27 --plot"
   ]
  },
  {
   "attachments": {},
   "cell_type": "markdown",
   "metadata": {},
   "source": [
    "# Split dataset\n",
    "Next, we need to partition the dataset into train, validation, and test sets. These will contain 80%, 10%, and 10% of the data, respectively."
   ]
  },
  {
   "cell_type": "code",
   "execution_count": null,
   "metadata": {},
   "outputs": [],
   "source": [
    "!python src/prepare_data.py --dataset flickr27"
   ]
  },
  {
   "attachments": {},
   "cell_type": "markdown",
   "metadata": {},
   "source": [
    "# Download base models"
   ]
  },
  {
   "cell_type": "code",
   "execution_count": null,
   "metadata": {},
   "outputs": [],
   "source": [
    "if YOLO_VERSION == 'yolov7':\n",
    "    # Download YOLOv7 models\n",
    "    !wget https://github.com/WongKinYiu/yolov7/releases/download/v0.1/yolov7_training.pt -P src/\n",
    "    !wget https://github.com/WongKinYiu/yolov7/releases/download/v0.1/yolov7-tiny.pt -P src/\n",
    "else:\n",
    "    # Download YOLOv11 models using the provided script\n",
    "    !sh src/download_models.sh"
   ]
  },
  {
   "attachments": {},
   "cell_type": "markdown",
   "metadata": {},
   "source": [
    "# Train the model"
   ]
  },
  {
   "cell_type": "code",
   "execution_count": null,
   "metadata": {},
   "outputs": [],
   "source": [
    "if YOLO_VERSION == 'yolov7':\n",
    "    # YOLOv7 Training\n",
    "    !python src/yolov7/train.py \\\n",
    "        --img-size 640 \\\n",
    "        --cfg src/cfg/training/yolov7.yaml \\\n",
    "        --hyp data/hyp.scratch.yaml \\\n",
    "        --batch 2 \\\n",
    "        --epoch 300 \\\n",
    "        --data data/logo_data_flickr.yaml \\\n",
    "        --weights src/yolov7_training.pt \\\n",
    "        --workers 2 \\\n",
    "        --name yolo_logo_det \\\n",
    "        --device 0\n",
    "else:\n",
    "    # YOLOv11 Training\n",
    "    # First, import ultralytics\n",
    "    from ultralytics import YOLO\n",
    "    \n",
    "    # Initialize the model\n",
    "    model = YOLO('yolo11n.pt')\n",
    "    \n",
    "    # Define training configuration\n",
    "    config = {\n",
    "        'data': 'data/logo_data_flickr.yaml',\n",
    "        'epochs': 300,\n",
    "        'imgsz': 640,\n",
    "        'batch': 16,  # Adjust based on your GPU memory\n",
    "        'name': 'yolo11_logo_det',\n",
    "        'device': '0',  # Auto-select device\n",
    "        'workers': 8\n",
    "    }\n",
    "    \n",
    "    # Train the model\n",
    "    results = model.train(**config)"
   ]
  },
  {
   "attachments": {},
   "cell_type": "markdown",
   "metadata": {},
   "source": [
    "# Evaluate the model"
   ]
  },
  {
   "cell_type": "code",
   "execution_count": null,
   "metadata": {},
   "outputs": [],
   "source": [
    "if YOLO_VERSION == 'yolov7':\n",
    "    # YOLOv7 Validation\n",
    "    !python src/yolov7/test.py \\\n",
    "        --img-size 640 \\\n",
    "        --batch 16 \\\n",
    "        --data data/logo_data_flickr.yaml \\\n",
    "        --weights runs/train/yolo_logo_det/weights/best.pt \\\n",
    "        --task test \\\n",
    "        --name yolo_logo_det_val\n",
    "else:\n",
    "    # YOLOv11 Validation\n",
    "    metrics = model.val()"
   ]
  },
  {
   "attachments": {},
   "cell_type": "markdown",
   "metadata": {},
   "source": [
    "# Run inference"
   ]
  },
  {
   "cell_type": "code",
   "execution_count": null,
   "metadata": {},
   "outputs": [],
   "source": [
    "if YOLO_VERSION == 'yolov7':\n",
    "    # YOLOv7 Inference\n",
    "    !python src/yolov7/detect.py \\\n",
    "        --source data/Sample/test \\\n",
    "        --weights runs/train/yolo_logo_det/weights/best.pt \\\n",
    "        --conf 0.25 \\\n",
    "        --name yolo_logo_det_inference\n",
    "else:\n",
    "    # YOLOv11 Inference\n",
    "    model_path = 'runs/detect/yolo11_logo_det/weights/best.pt'\n",
    "    inference_model = YOLO(model_path)\n",
    "    \n",
    "    # Run inference\n",
    "    results = inference_model.predict(\n",
    "        source='data/Sample/test',\n",
    "        conf=0.25,\n",
    "        save=True,\n",
    "        name='yolo11_logo_det_inference'\n",
    "    )"
   ]
  },
  {
   "attachments": {},
   "cell_type": "markdown",
   "metadata": {},
   "source": [
    "# Display results (YOLOv11 only)"
   ]
  },
  {
   "cell_type": "code",
   "execution_count": null,
   "metadata": {},
   "outputs": [],
   "source": [
    "if YOLO_VERSION == 'yolo11':\n",
    "    import matplotlib.pyplot as plt\n",
    "    from PIL import Image\n",
    "    import os\n",
    "    \n",
    "    # Get a list of result images\n",
    "    result_dir = 'runs/detect/predict'\n",
    "    result_images = [os.path.join(result_dir, img) for img in os.listdir(result_dir) if img.endswith(('.jpg', '.png'))]\n",
    "    \n",
    "    # Display a few results\n",
    "    plt.figure(figsize=(20, 10))\n",
    "    for i, img_path in enumerate(result_images[:5]):\n",
    "        if i >= 5: break  # Show max 5 images\n",
    "        plt.subplot(1, 5, i+1)\n",
    "        img = Image.open(img_path)\n",
    "        plt.imshow(img)\n",
    "        plt.axis('off')\n",
    "        plt.title(f'Result {i+1}')\n",
    "    plt.tight_layout()\n",
    "    plt.show()"
   ]
  }
 ],
 "metadata": {
  "language_info": {
   "name": "python"
  },
  "orig_nbformat": 4
 },
 "nbformat": 4,
 "nbformat_minor": 2
}